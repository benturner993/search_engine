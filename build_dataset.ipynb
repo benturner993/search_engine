{
 "cells": [
  {
   "cell_type": "code",
   "execution_count": 1,
   "id": "386b8961",
   "metadata": {},
   "outputs": [],
   "source": [
    "# import necessary libraries\n",
    "import pandas as pd\n",
    "import os\n",
    "import glob\n",
    "import re"
   ]
  },
  {
   "cell_type": "code",
   "execution_count": 2,
   "id": "4b326eb9",
   "metadata": {},
   "outputs": [],
   "source": [
    "# use glob to get all the csv files \n",
    "# in the folder\n",
    "path = os.getcwd()+'/pages2'\n",
    "csv_files = glob.glob(os.path.join(path, \"*.csv\"))"
   ]
  },
  {
   "cell_type": "code",
   "execution_count": 3,
   "id": "a541d9e5",
   "metadata": {},
   "outputs": [],
   "source": [
    "# import all csvs from file\n",
    "df = pd.concat((pd.read_csv(f) for f in csv_files), ignore_index=True)"
   ]
  },
  {
   "cell_type": "code",
   "execution_count": 4,
   "id": "903be9f6",
   "metadata": {},
   "outputs": [],
   "source": [
    "# lowercase columns\n",
    "df.columns = df.columns.str.lower()"
   ]
  },
  {
   "cell_type": "code",
   "execution_count": 5,
   "id": "f06c6710",
   "metadata": {},
   "outputs": [],
   "source": [
    "# clean text\n",
    "df['title']=[re.sub(r'[^\\w\\s]', '', str(x)) for x in df['title']]\n",
    "df['header']=[re.sub(r'[^\\w\\s]', '', str(x)) for x in df['header']]\n",
    "df['body']=[re.sub(r'[^\\w\\s]', '', str(x)) for x in df['body']]\n",
    "\n",
    "# strip white space between text\n",
    "df['body']=df['body'].apply(lambda x: re.sub(' +', ' ', x))\n",
    "# string_to_remove_1 = 'Navigation Individuals families Business Intermediaries Healthcare professionals Find a healthcare professional or service Help support Contact us Search Bupa Search Sign in Sign in Individuals and family I have Bupa cover or Im insured through my employer Partners and Intermediaries Providers Online Im a Bupa recognised healthcare professional or provider Bupa Connect I manage my employees cover or business clients Consumer Intermediary Portal Im an intermediary with consumer clients Skip to content Accessibility Help Health Insurance Dental Care homes Pay as you go Health information Individuals families Business Intermediaries Healthcare professionals Find a healthcare professional or service '\n",
    "# df['body'] = df['body'].replace(string_to_remove_1, '', regex=True)\n",
    "\n",
    "# create a text column\n",
    "# df['text']=df['title']+' '+df['header']\n",
    "df['text']=df['body'].fillna('missing')"
   ]
  },
  {
   "cell_type": "code",
   "execution_count": 6,
   "id": "2af997b9",
   "metadata": {},
   "outputs": [],
   "source": [
    "def word_lengths(s):\n",
    "   \n",
    "    # use a generator expression with map to get the lengths of all the words\n",
    "    lengths = map(len, (word for word in s.split()))\n",
    "    return list(lengths)"
   ]
  },
  {
   "cell_type": "code",
   "execution_count": 7,
   "id": "62510fda",
   "metadata": {},
   "outputs": [],
   "source": [
    "def hash_filtering(string):\n",
    "    \n",
    "    try:\n",
    "\n",
    "        # find the length of each word in string\n",
    "        word_length_list = word_lengths(string)\n",
    "\n",
    "        # find the index of last word which is 36 letters long indicating a break\n",
    "        final_index = max(index for index, item in enumerate(word_length_list) if item == 36)\n",
    "\n",
    "        # total characters used for words and spaces\n",
    "        length_of_words=sum(word_length_list[:final_index+1])\n",
    "        length_of_spaces=final_index\n",
    "\n",
    "        # filter list based on index\n",
    "        output = string[length_of_words+length_of_spaces+1:]\n",
    "\n",
    "        return output\n",
    "    \n",
    "    except:\n",
    "        \n",
    "        return string"
   ]
  },
  {
   "cell_type": "code",
   "execution_count": 8,
   "id": "67478508",
   "metadata": {},
   "outputs": [],
   "source": [
    "def search_string_filtering(string):\n",
    "\n",
    "    try:\n",
    "        \n",
    "        search_term='You are here'\n",
    "        output=string[string.find(search_term)+len(search_term)+1:]\n",
    "\n",
    "        return output\n",
    "    \n",
    "    except:\n",
    "        return string"
   ]
  },
  {
   "cell_type": "code",
   "execution_count": 9,
   "id": "8bd217db",
   "metadata": {},
   "outputs": [],
   "source": [
    "def footer_string_filtering(string):\n",
    "    \n",
    "    try:\n",
    "        \n",
    "        search_term='Health Health overview Health insurance Health cash '\n",
    "        output=string[:string.find(search_term)]\n",
    "        \n",
    "        return output\n",
    "    except:\n",
    "        return string"
   ]
  },
  {
   "cell_type": "code",
   "execution_count": 10,
   "id": "a21075f2",
   "metadata": {},
   "outputs": [],
   "source": [
    "df['text'] = df.apply(lambda row : hash_filtering(row['text']), axis = 1)\n",
    "df['text'] = df.apply(lambda row : search_string_filtering(row['text']), axis = 1)\n",
    "df['text'] = df.apply(lambda row : footer_string_filtering(row['text']), axis = 1)\n",
    "\n",
    "string_to_remove_1 = 'Home Dental Bupa Dental Care Practices'\n",
    "df['text'] = df['text'].replace(string_to_remove_1, '', regex=True)\n",
    "\n",
    "# set a max limit of strings\n",
    "df['text'] = df.text.str[:32000]\n",
    "\n",
    "# Starts with:\n",
    "# Bupa Dental Care\n",
    "# Home Health Information\n",
    "# txt = \"Hello, welcome to my world.\"\n",
    "# x = txt.startswith(\"Hello\")\n",
    "# x[]"
   ]
  },
  {
   "cell_type": "code",
   "execution_count": 11,
   "id": "7921bd46",
   "metadata": {},
   "outputs": [],
   "source": [
    "df=df.drop_duplicates()"
   ]
  },
  {
   "cell_type": "code",
   "execution_count": 12,
   "id": "dc8998fc",
   "metadata": {},
   "outputs": [],
   "source": [
    "# export csv\n",
    "cols=['url', 'title', 'header','text']\n",
    "df[cols].to_csv(os.getcwd()+'/data/data.csv', index=False)"
   ]
  }
 ],
 "metadata": {
  "kernelspec": {
   "display_name": "Python 3",
   "language": "python",
   "name": "python3"
  },
  "language_info": {
   "codemirror_mode": {
    "name": "ipython",
    "version": 3
   },
   "file_extension": ".py",
   "mimetype": "text/x-python",
   "name": "python",
   "nbconvert_exporter": "python",
   "pygments_lexer": "ipython3",
   "version": "3.8.8"
  }
 },
 "nbformat": 4,
 "nbformat_minor": 5
}
