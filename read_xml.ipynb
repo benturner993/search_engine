{
 "cells": [
  {
   "cell_type": "code",
   "execution_count": 31,
   "id": "04ee8984",
   "metadata": {},
   "outputs": [],
   "source": [
    "import pandas as pd\n",
    "import requests\n",
    "import xmltodict\n",
    "import pprint"
   ]
  },
  {
   "cell_type": "code",
   "execution_count": 8,
   "id": "418eedfb",
   "metadata": {},
   "outputs": [],
   "source": [
    "xml='https://www.bupa.co.uk/sitemap.xml'"
   ]
  },
  {
   "cell_type": "code",
   "execution_count": 9,
   "id": "8a13c8a3",
   "metadata": {},
   "outputs": [],
   "source": [
    "# creating HTTP response object from given url\n",
    "resp = requests.get(xml)\n",
    "\n",
    "# saving the xml file\n",
    "with open('xml/bupa_sitemap.xml', 'wb') as f:\n",
    "    f.write(resp.content)"
   ]
  },
  {
   "cell_type": "code",
   "execution_count": 25,
   "id": "6d1ae74c",
   "metadata": {},
   "outputs": [],
   "source": [
    "# Open the file and read the contents\n",
    "with open('xml/bupa_sitemap.xml', 'r', encoding='utf-8') as file:\n",
    "    my_xml = file.read()\n",
    "\n",
    "# Use xmltodict to parse and convert the XML document\n",
    "bupa_xml = xmltodict.parse(my_xml)"
   ]
  },
  {
   "cell_type": "code",
   "execution_count": 26,
   "id": "951b532b",
   "metadata": {},
   "outputs": [],
   "source": [
    "# read the first few levels to return urls\n",
    "bupa_url_list_dict=bupa_xml['urlset']['url']"
   ]
  },
  {
   "cell_type": "code",
   "execution_count": 29,
   "id": "cee70b40",
   "metadata": {},
   "outputs": [],
   "source": [
    "# create an empty list of urls\n",
    "bupa_urls_list=[]\n",
    "\n",
    "for page in bupa_url_list_dict:\n",
    "    bupa_urls_list.append(page['loc'])"
   ]
  },
  {
   "cell_type": "code",
   "execution_count": 34,
   "id": "3e401d89",
   "metadata": {},
   "outputs": [],
   "source": [
    "# create a dataframe of urls\n",
    "df = pd.DataFrame(bupa_urls_list,columns =['url'])"
   ]
  },
  {
   "cell_type": "code",
   "execution_count": 37,
   "id": "368210c4",
   "metadata": {},
   "outputs": [],
   "source": [
    "# export to csv\n",
    "df.to_csv('url/urls.csv', index=False)"
   ]
  }
 ],
 "metadata": {
  "kernelspec": {
   "display_name": "Python 3",
   "language": "python",
   "name": "python3"
  },
  "language_info": {
   "codemirror_mode": {
    "name": "ipython",
    "version": 3
   },
   "file_extension": ".py",
   "mimetype": "text/x-python",
   "name": "python",
   "nbconvert_exporter": "python",
   "pygments_lexer": "ipython3",
   "version": "3.8.8"
  }
 },
 "nbformat": 4,
 "nbformat_minor": 5
}
